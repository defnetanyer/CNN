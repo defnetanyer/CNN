{
  "nbformat": 4,
  "nbformat_minor": 0,
  "metadata": {
    "colab": {
      "name": "PD11 report.ipynb",
      "provenance": []
    },
    "kernelspec": {
      "name": "python3",
      "display_name": "Python 3"
    },
    "language_info": {
      "name": "python"
    }
  },
  "cells": [
    {
      "cell_type": "code",
      "execution_count": null,
      "metadata": {
        "id": "L6rtZizhpPmQ"
      },
      "outputs": [],
      "source": [
        "#import waymo open dataset\n",
        "#train using mlp\n",
        "#use cnn\n",
        "#use different optimizer, \"adam\", \"sgd\"\n",
        "#for analysis give us rmse and plot it using matplotlib"
      ]
    },
    {
      "cell_type": "code",
      "source": [
        "import pandas as pd\n",
        "import cmath\n",
        "import math\n",
        "import numpy as np\n",
        "import glob\n",
        "from os import path\n",
        "from sklearn.model_selection import train_test_split, KFold, StratifiedKFold"
      ],
      "metadata": {
        "id": "ghlr0kjnpowi"
      },
      "execution_count": null,
      "outputs": []
    },
    {
      "cell_type": "code",
      "source": [
        "# load the dataset from the Google Drive location\n",
        "from google.colab import drive\n",
        "drive.mount('/content/drive')"
      ],
      "metadata": {
        "id": "1XTOk6gF9fCL",
        "colab": {
          "base_uri": "https://localhost:8080/"
        },
        "outputId": "d30c576d-c40e-4ace-947c-d46fe26ca832"
      },
      "execution_count": null,
      "outputs": [
        {
          "output_type": "stream",
          "name": "stdout",
          "text": [
            "Drive already mounted at /content/drive; to attempt to forcibly remount, call drive.mount(\"/content/drive\", force_remount=True).\n"
          ]
        }
      ]
    },
    {
      "cell_type": "code",
      "source": [
        "num_of_sensors = 24\n",
        "\n",
        "def prepare_data_conv2d(df):\n",
        "  X = []\n",
        "  for c_arr in df['sensor']:\n",
        "    # use real, imag  and angle values as features\n",
        "    X.append([i.real for i in c_arr] + [i.imag for i in c_arr] + [np.angle(i) for i in c_arr])\n",
        "  X = np.asarray(X).astype('float32')\n",
        "\n",
        "  # 3 channels : real part, imag part and angle values\n",
        "  num_of_samples = X.shape[0]\n",
        "  X = X.reshape(num_of_samples, num_of_sensors, num_of_sensors)\n",
        "  print(\"X.shape:\", X.shape)\n",
        "\n",
        "  # Two targets: tgtAz and tgtEl\n",
        "  Y_az = df['tgtAz']\n",
        "  Y_az = np.asarray(Y_az).astype('float32')\n",
        "\n",
        "  Y_el = df['tgtEl']\n",
        "  Y_el = np.asarray(Y_el).astype('float32')\n",
        "\n",
        "  Y = np.stack((Y_az, Y_el), axis=1)\n",
        "  print(Y.shape)\n",
        "\n",
        "  return X,Y"
      ],
      "metadata": {
        "id": "OJdKPeKy9dLR"
      },
      "execution_count": null,
      "outputs": []
    },
    {
      "cell_type": "code",
      "source": [
        "!ls /content/drive/MyDrive/RTD_ML_DATASETS/'data in pickle format'/data_all_281221.pkl"
      ],
      "metadata": {
        "id": "XoMvQpeD9rGX",
        "colab": {
          "base_uri": "https://localhost:8080/"
        },
        "outputId": "90469560-614e-496f-c65f-19529d47a3cf"
      },
      "execution_count": null,
      "outputs": [
        {
          "output_type": "stream",
          "name": "stdout",
          "text": [
            "'/content/drive/MyDrive/RTD_ML_DATASETS/data in pickle format/data_all_281221.pkl'\n"
          ]
        }
      ]
    },
    {
      "cell_type": "code",
      "source": [
        "#dataset path\n",
        "path_data_all = '/content/drive/MyDrive/RTD_ML_DATASETS/data in pickle format/data_all_281221.pkl'\n",
        "data_all = pd.read_pickle(path_data_all)"
      ],
      "metadata": {
        "id": "AJNq_wwz-nJd"
      },
      "execution_count": null,
      "outputs": []
    },
    {
      "cell_type": "code",
      "source": [
        "data_all.head()"
      ],
      "metadata": {
        "id": "8zJn-vBC-t9N",
        "colab": {
          "base_uri": "https://localhost:8080/",
          "height": 206
        },
        "outputId": "e180fe8a-9614-4b8c-8950-b439ac9173e3"
      },
      "execution_count": null,
      "outputs": [
        {
          "output_type": "execute_result",
          "data": {
            "text/html": [
              "\n",
              "  <div id=\"df-1e52df1c-3f5e-4c9f-a7b5-6273c3fea274\">\n",
              "    <div class=\"colab-df-container\">\n",
              "      <div>\n",
              "<style scoped>\n",
              "    .dataframe tbody tr th:only-of-type {\n",
              "        vertical-align: middle;\n",
              "    }\n",
              "\n",
              "    .dataframe tbody tr th {\n",
              "        vertical-align: top;\n",
              "    }\n",
              "\n",
              "    .dataframe thead th {\n",
              "        text-align: right;\n",
              "    }\n",
              "</style>\n",
              "<table border=\"1\" class=\"dataframe\">\n",
              "  <thead>\n",
              "    <tr style=\"text-align: right;\">\n",
              "      <th></th>\n",
              "      <th>sensor</th>\n",
              "      <th>tgtAz</th>\n",
              "      <th>tgtEl</th>\n",
              "      <th>tgtAmpAbs</th>\n",
              "      <th>tgtAmpReal</th>\n",
              "      <th>tgtAmpImag</th>\n",
              "      <th>snr</th>\n",
              "    </tr>\n",
              "  </thead>\n",
              "  <tbody>\n",
              "    <tr>\n",
              "      <th>0</th>\n",
              "      <td>[(0.43328781612678996+0.974769581274364j), (0....</td>\n",
              "      <td>-20.459838</td>\n",
              "      <td>-1.234783</td>\n",
              "      <td>1</td>\n",
              "      <td>0.676347</td>\n",
              "      <td>-0.736583</td>\n",
              "      <td>05dB</td>\n",
              "    </tr>\n",
              "    <tr>\n",
              "      <th>1</th>\n",
              "      <td>[(0.159028314259432+0.689512404819059j), (0.97...</td>\n",
              "      <td>-28.701215</td>\n",
              "      <td>-4.061009</td>\n",
              "      <td>1</td>\n",
              "      <td>-0.994969</td>\n",
              "      <td>-0.100179</td>\n",
              "      <td>05dB</td>\n",
              "    </tr>\n",
              "    <tr>\n",
              "      <th>2</th>\n",
              "      <td>[(-1.05467342650783+0.300623242518138j), (-0.9...</td>\n",
              "      <td>-38.895201</td>\n",
              "      <td>0.549737</td>\n",
              "      <td>1</td>\n",
              "      <td>-0.973491</td>\n",
              "      <td>-0.228727</td>\n",
              "      <td>05dB</td>\n",
              "    </tr>\n",
              "    <tr>\n",
              "      <th>3</th>\n",
              "      <td>[(0.41228084507665397+0.146073278265548j), (1....</td>\n",
              "      <td>8.194873</td>\n",
              "      <td>1.923607</td>\n",
              "      <td>1</td>\n",
              "      <td>0.331567</td>\n",
              "      <td>-0.943432</td>\n",
              "      <td>05dB</td>\n",
              "    </tr>\n",
              "    <tr>\n",
              "      <th>4</th>\n",
              "      <td>[(1.5585688445022698+0.23542451522124105j), (-...</td>\n",
              "      <td>6.027422</td>\n",
              "      <td>0.802594</td>\n",
              "      <td>1</td>\n",
              "      <td>-0.999427</td>\n",
              "      <td>0.033836</td>\n",
              "      <td>05dB</td>\n",
              "    </tr>\n",
              "  </tbody>\n",
              "</table>\n",
              "</div>\n",
              "      <button class=\"colab-df-convert\" onclick=\"convertToInteractive('df-1e52df1c-3f5e-4c9f-a7b5-6273c3fea274')\"\n",
              "              title=\"Convert this dataframe to an interactive table.\"\n",
              "              style=\"display:none;\">\n",
              "        \n",
              "  <svg xmlns=\"http://www.w3.org/2000/svg\" height=\"24px\"viewBox=\"0 0 24 24\"\n",
              "       width=\"24px\">\n",
              "    <path d=\"M0 0h24v24H0V0z\" fill=\"none\"/>\n",
              "    <path d=\"M18.56 5.44l.94 2.06.94-2.06 2.06-.94-2.06-.94-.94-2.06-.94 2.06-2.06.94zm-11 1L8.5 8.5l.94-2.06 2.06-.94-2.06-.94L8.5 2.5l-.94 2.06-2.06.94zm10 10l.94 2.06.94-2.06 2.06-.94-2.06-.94-.94-2.06-.94 2.06-2.06.94z\"/><path d=\"M17.41 7.96l-1.37-1.37c-.4-.4-.92-.59-1.43-.59-.52 0-1.04.2-1.43.59L10.3 9.45l-7.72 7.72c-.78.78-.78 2.05 0 2.83L4 21.41c.39.39.9.59 1.41.59.51 0 1.02-.2 1.41-.59l7.78-7.78 2.81-2.81c.8-.78.8-2.07 0-2.86zM5.41 20L4 18.59l7.72-7.72 1.47 1.35L5.41 20z\"/>\n",
              "  </svg>\n",
              "      </button>\n",
              "      \n",
              "  <style>\n",
              "    .colab-df-container {\n",
              "      display:flex;\n",
              "      flex-wrap:wrap;\n",
              "      gap: 12px;\n",
              "    }\n",
              "\n",
              "    .colab-df-convert {\n",
              "      background-color: #E8F0FE;\n",
              "      border: none;\n",
              "      border-radius: 50%;\n",
              "      cursor: pointer;\n",
              "      display: none;\n",
              "      fill: #1967D2;\n",
              "      height: 32px;\n",
              "      padding: 0 0 0 0;\n",
              "      width: 32px;\n",
              "    }\n",
              "\n",
              "    .colab-df-convert:hover {\n",
              "      background-color: #E2EBFA;\n",
              "      box-shadow: 0px 1px 2px rgba(60, 64, 67, 0.3), 0px 1px 3px 1px rgba(60, 64, 67, 0.15);\n",
              "      fill: #174EA6;\n",
              "    }\n",
              "\n",
              "    [theme=dark] .colab-df-convert {\n",
              "      background-color: #3B4455;\n",
              "      fill: #D2E3FC;\n",
              "    }\n",
              "\n",
              "    [theme=dark] .colab-df-convert:hover {\n",
              "      background-color: #434B5C;\n",
              "      box-shadow: 0px 1px 3px 1px rgba(0, 0, 0, 0.15);\n",
              "      filter: drop-shadow(0px 1px 2px rgba(0, 0, 0, 0.3));\n",
              "      fill: #FFFFFF;\n",
              "    }\n",
              "  </style>\n",
              "\n",
              "      <script>\n",
              "        const buttonEl =\n",
              "          document.querySelector('#df-1e52df1c-3f5e-4c9f-a7b5-6273c3fea274 button.colab-df-convert');\n",
              "        buttonEl.style.display =\n",
              "          google.colab.kernel.accessAllowed ? 'block' : 'none';\n",
              "\n",
              "        async function convertToInteractive(key) {\n",
              "          const element = document.querySelector('#df-1e52df1c-3f5e-4c9f-a7b5-6273c3fea274');\n",
              "          const dataTable =\n",
              "            await google.colab.kernel.invokeFunction('convertToInteractive',\n",
              "                                                     [key], {});\n",
              "          if (!dataTable) return;\n",
              "\n",
              "          const docLinkHtml = 'Like what you see? Visit the ' +\n",
              "            '<a target=\"_blank\" href=https://colab.research.google.com/notebooks/data_table.ipynb>data table notebook</a>'\n",
              "            + ' to learn more about interactive tables.';\n",
              "          element.innerHTML = '';\n",
              "          dataTable['output_type'] = 'display_data';\n",
              "          await google.colab.output.renderOutput(dataTable, element);\n",
              "          const docLink = document.createElement('div');\n",
              "          docLink.innerHTML = docLinkHtml;\n",
              "          element.appendChild(docLink);\n",
              "        }\n",
              "      </script>\n",
              "    </div>\n",
              "  </div>\n",
              "  "
            ],
            "text/plain": [
              "                                              sensor      tgtAz     tgtEl  \\\n",
              "0  [(0.43328781612678996+0.974769581274364j), (0.... -20.459838 -1.234783   \n",
              "1  [(0.159028314259432+0.689512404819059j), (0.97... -28.701215 -4.061009   \n",
              "2  [(-1.05467342650783+0.300623242518138j), (-0.9... -38.895201  0.549737   \n",
              "3  [(0.41228084507665397+0.146073278265548j), (1....   8.194873  1.923607   \n",
              "4  [(1.5585688445022698+0.23542451522124105j), (-...   6.027422  0.802594   \n",
              "\n",
              "   tgtAmpAbs  tgtAmpReal  tgtAmpImag   snr  \n",
              "0          1    0.676347   -0.736583  05dB  \n",
              "1          1   -0.994969   -0.100179  05dB  \n",
              "2          1   -0.973491   -0.228727  05dB  \n",
              "3          1    0.331567   -0.943432  05dB  \n",
              "4          1   -0.999427    0.033836  05dB  "
            ]
          },
          "metadata": {},
          "execution_count": 53
        }
      ]
    },
    {
      "cell_type": "code",
      "source": [
        "#print the number of samples for each SNR level\n",
        "df = data_all\n",
        "for snr in df.snr.unique():\n",
        "  _df = df.loc[df.snr == snr]\n",
        "  print(snr, '=', len(_df.index))"
      ],
      "metadata": {
        "id": "KjlgOOT3-7lz",
        "colab": {
          "base_uri": "https://localhost:8080/"
        },
        "outputId": "19d0d7fa-b8d5-42d6-8c93-01e780166c65"
      },
      "execution_count": null,
      "outputs": [
        {
          "output_type": "stream",
          "name": "stdout",
          "text": [
            "05dB = 30000\n",
            "00dB = 35000\n",
            "20dB = 25000\n",
            "10dB = 25000\n",
            "nonoise = 49998\n",
            "minus5dB = 5000\n",
            "minus10dB = 5000\n",
            "minus15dB = 5000\n"
          ]
        }
      ]
    },
    {
      "cell_type": "code",
      "source": [
        "df = data_all\n",
        "\n",
        "db_list  = ['nonoise'] #use only data with no noise\n",
        "#db_list  = ['nonoise', '20dB', '10dB'] #put the list of data types you want to use\n",
        "\n",
        "df_train = []\n",
        "df_test = []\n",
        "for snr in db_list:\n",
        "  _df = df.loc[df.snr == snr].sample(25000, random_state=33)\n",
        "  train, test = train_test_split(_df, test_size=0.2, random_state=33)\n",
        "  df_train.append(train)\n",
        "  df_test.append(test)\n",
        "\n",
        "df_train = pd.concat(df_train)\n",
        "df_test = pd.concat(df_test)\n",
        "print(\"train and test data are ready\")"
      ],
      "metadata": {
        "id": "9xGNQl47AAa4",
        "colab": {
          "base_uri": "https://localhost:8080/"
        },
        "outputId": "2d3f854a-33e2-4b66-b450-f2e6101f06f4"
      },
      "execution_count": null,
      "outputs": [
        {
          "output_type": "stream",
          "name": "stdout",
          "text": [
            "train and test data are ready\n"
          ]
        }
      ]
    },
    {
      "cell_type": "code",
      "source": [
        "# train_data = df_train\n",
        "# train_data['label'] = train_data['label'].astype(str)\n",
        "# Y = train_data[['label']]\n",
        "\n",
        "# skf = KFold(n_splits = 5, random_state = 7, shuffle = True) \n",
        "\n",
        "# fold = 1\n",
        "# for train_index, val_index in skf.split(np.zeros(len(train_data)), Y):\n",
        "  \n",
        "#   training_data = train_data.iloc[train_index]\n",
        "#   validation_data = train_data.iloc[val_index]"
      ],
      "metadata": {
        "id": "fxgQOt6EFXHj"
      },
      "execution_count": null,
      "outputs": []
    },
    {
      "cell_type": "code",
      "source": [
        "X_train, y_train = prepare_data_conv2d(df_train)\n",
        "X_test, y_test = prepare_data_conv2d(df_test)"
      ],
      "metadata": {
        "id": "xGaDgirk_tM_",
        "colab": {
          "base_uri": "https://localhost:8080/"
        },
        "outputId": "ed54d744-431e-43df-ddaf-a142947331bb"
      },
      "execution_count": null,
      "outputs": [
        {
          "output_type": "stream",
          "name": "stdout",
          "text": [
            "X.shape: (20000, 24, 24)\n",
            "(20000, 2)\n",
            "X.shape: (5000, 24, 24)\n",
            "(5000, 2)\n"
          ]
        }
      ]
    },
    {
      "cell_type": "code",
      "source": [
        "import os\n",
        "import tensorflow as tf\n",
        "\n",
        "from keras.models import Sequential\n",
        "from keras.layers import Conv2D\n",
        "from keras.layers import MaxPooling2D\n",
        "from keras.layers import Flatten\n",
        "from keras.layers import Dense\n",
        "\n",
        "\n",
        "from keras.metrics import RootMeanSquaredError\n",
        "from sklearn.model_selection import cross_val_score"
      ],
      "metadata": {
        "id": "U4_3EH4HEZuM"
      },
      "execution_count": null,
      "outputs": []
    },
    {
      "cell_type": "code",
      "source": [
        "# save the model with the lowest val_loss\n",
        "checkpoint_path = \"expCNN01/cp.ckpt\"\n",
        "checkpoint_dir = os.path.dirname(checkpoint_path)\n",
        "\n",
        "# Create a callback that saves the model's weights\n",
        "cp_callback = tf.keras.callbacks.ModelCheckpoint(filepath=checkpoint_path,\n",
        "                                                 #save_weights_only=True,\n",
        "                                                 save_best_only = True,\n",
        "                                                 monitor='val_loss',\n",
        "                                                 verbose=1)"
      ],
      "metadata": {
        "id": "PbfaIjtaEcZy"
      },
      "execution_count": null,
      "outputs": []
    },
    {
      "cell_type": "code",
      "source": [
        "inp_size = num_of_sensors\n",
        "kernel_size = 3\n",
        "tf.keras.backend.clear_session()\n",
        "\n",
        "# A baseline CNN model\n",
        "def baseline_model():\n",
        "  model = Sequential()\n",
        "  model.add(Conv2D(filters=64, kernel_size=kernel_size, activation='relu', input_shape=(24, 24, 1)))\n",
        "  model.add(Conv2D(filters=64, kernel_size=kernel_size, activation='relu'))\n",
        "\n",
        "  # model.add(MaxPooling2D(pool_size=2)) #note that not using MaxPooling increased the accuracy\n",
        "  \n",
        "  model.add(Flatten())\n",
        "  model.add(Dense(256, activation='relu'))\n",
        "  model.add(Dense(64, activation='relu'))\n",
        "  model.add(Dense(2, activation='relu'))\n",
        "  model.compile(\n",
        "    optimizer='adam',\n",
        "    loss='mse',\n",
        "    metrics=[RootMeanSquaredError()])\n",
        "  return model"
      ],
      "metadata": {
        "id": "2qsqB-sdEfHg"
      },
      "execution_count": null,
      "outputs": []
    },
    {
      "cell_type": "code",
      "source": [
        "model = baseline_model()\n",
        "model.summary()"
      ],
      "metadata": {
        "id": "GHN3alsvEgWR",
        "colab": {
          "base_uri": "https://localhost:8080/"
        },
        "outputId": "0d825d7d-fbe5-47eb-c68a-de75af8b0d70"
      },
      "execution_count": null,
      "outputs": [
        {
          "output_type": "stream",
          "name": "stdout",
          "text": [
            "Model: \"sequential\"\n",
            "_________________________________________________________________\n",
            " Layer (type)                Output Shape              Param #   \n",
            "=================================================================\n",
            " conv2d (Conv2D)             (None, 22, 22, 64)        640       \n",
            "                                                                 \n",
            " conv2d_1 (Conv2D)           (None, 20, 20, 64)        36928     \n",
            "                                                                 \n",
            " flatten (Flatten)           (None, 25600)             0         \n",
            "                                                                 \n",
            " dense (Dense)               (None, 256)               6553856   \n",
            "                                                                 \n",
            " dense_1 (Dense)             (None, 64)                16448     \n",
            "                                                                 \n",
            " dense_2 (Dense)             (None, 2)                 130       \n",
            "                                                                 \n",
            "=================================================================\n",
            "Total params: 6,608,002\n",
            "Trainable params: 6,608,002\n",
            "Non-trainable params: 0\n",
            "_________________________________________________________________\n"
          ]
        }
      ]
    },
    {
      "cell_type": "code",
      "source": [
        "history = model.fit(X_train, \n",
        "          y_train,\n",
        "          epochs=10, #try it with at least 100 epochs\n",
        "          batch_size=32,\n",
        "          validation_split=0.2,\n",
        "          callbacks=[cp_callback])"
      ],
      "metadata": {
        "id": "10KN2udFEfbn",
        "colab": {
          "base_uri": "https://localhost:8080/"
        },
        "outputId": "5ff68e23-59c0-46cb-b1ec-5c7265a685a6"
      },
      "execution_count": null,
      "outputs": [
        {
          "output_type": "stream",
          "name": "stdout",
          "text": [
            "Epoch 1/10\n",
            "500/500 [==============================] - ETA: 0s - loss: 268.5086 - root_mean_squared_error: 16.3862\n",
            "Epoch 1: val_loss improved from inf to 272.86923, saving model to expCNN01/cp.ckpt\n",
            "INFO:tensorflow:Assets written to: expCNN01/cp.ckpt/assets\n",
            "500/500 [==============================] - 98s 195ms/step - loss: 268.5086 - root_mean_squared_error: 16.3862 - val_loss: 272.8692 - val_root_mean_squared_error: 16.5188\n",
            "Epoch 2/10\n",
            "500/500 [==============================] - ETA: 0s - loss: 268.5069 - root_mean_squared_error: 16.3862\n",
            "Epoch 2: val_loss did not improve from 272.86923\n",
            "500/500 [==============================] - 52s 105ms/step - loss: 268.5069 - root_mean_squared_error: 16.3862 - val_loss: 272.8692 - val_root_mean_squared_error: 16.5188\n",
            "Epoch 3/10\n",
            "500/500 [==============================] - ETA: 0s - loss: 268.5068 - root_mean_squared_error: 16.3862\n",
            "Epoch 3: val_loss did not improve from 272.86923\n",
            "500/500 [==============================] - 52s 104ms/step - loss: 268.5068 - root_mean_squared_error: 16.3862 - val_loss: 272.8692 - val_root_mean_squared_error: 16.5188\n",
            "Epoch 4/10\n",
            "500/500 [==============================] - ETA: 0s - loss: 268.5069 - root_mean_squared_error: 16.3862\n",
            "Epoch 4: val_loss did not improve from 272.86923\n",
            "500/500 [==============================] - 52s 105ms/step - loss: 268.5069 - root_mean_squared_error: 16.3862 - val_loss: 272.8692 - val_root_mean_squared_error: 16.5188\n",
            "Epoch 5/10\n",
            "500/500 [==============================] - ETA: 0s - loss: 268.5070 - root_mean_squared_error: 16.3862\n",
            "Epoch 5: val_loss did not improve from 272.86923\n",
            "500/500 [==============================] - 52s 105ms/step - loss: 268.5070 - root_mean_squared_error: 16.3862 - val_loss: 272.8692 - val_root_mean_squared_error: 16.5188\n",
            "Epoch 6/10\n",
            "500/500 [==============================] - ETA: 0s - loss: 268.5068 - root_mean_squared_error: 16.3862\n",
            "Epoch 6: val_loss did not improve from 272.86923\n",
            "500/500 [==============================] - 52s 104ms/step - loss: 268.5068 - root_mean_squared_error: 16.3862 - val_loss: 272.8692 - val_root_mean_squared_error: 16.5188\n",
            "Epoch 7/10\n",
            "500/500 [==============================] - ETA: 0s - loss: 268.5068 - root_mean_squared_error: 16.3862\n",
            "Epoch 7: val_loss did not improve from 272.86923\n",
            "500/500 [==============================] - 52s 105ms/step - loss: 268.5068 - root_mean_squared_error: 16.3862 - val_loss: 272.8692 - val_root_mean_squared_error: 16.5188\n",
            "Epoch 8/10\n",
            "500/500 [==============================] - ETA: 0s - loss: 268.5068 - root_mean_squared_error: 16.3862\n",
            "Epoch 8: val_loss did not improve from 272.86923\n",
            "500/500 [==============================] - 52s 105ms/step - loss: 268.5068 - root_mean_squared_error: 16.3862 - val_loss: 272.8692 - val_root_mean_squared_error: 16.5188\n",
            "Epoch 9/10\n",
            "500/500 [==============================] - ETA: 0s - loss: 268.5069 - root_mean_squared_error: 16.3862\n",
            "Epoch 9: val_loss did not improve from 272.86923\n",
            "500/500 [==============================] - 52s 105ms/step - loss: 268.5069 - root_mean_squared_error: 16.3862 - val_loss: 272.8692 - val_root_mean_squared_error: 16.5188\n",
            "Epoch 10/10\n",
            "500/500 [==============================] - ETA: 0s - loss: 268.5069 - root_mean_squared_error: 16.3862\n",
            "Epoch 10: val_loss did not improve from 272.86923\n",
            "500/500 [==============================] - 53s 105ms/step - loss: 268.5069 - root_mean_squared_error: 16.3862 - val_loss: 272.8692 - val_root_mean_squared_error: 16.5188\n"
          ]
        }
      ]
    },
    {
      "cell_type": "code",
      "source": [
        "#how was the training, any overfits?\n",
        "# plot train loss and validation loss for each epoch\n",
        "\n",
        "from matplotlib import pyplot as plt\n",
        "plt.plot(history.history['loss'])\n",
        "plt.plot(history.history['val_loss'])\n",
        "plt.title('Model Loss')\n",
        "plt.ylabel('Loss')\n",
        "plt.xlabel('Epoch')\n",
        "plt.legend(['train', 'val'], loc='upper left')\n",
        "plt.show()"
      ],
      "metadata": {
        "id": "1JcP9XYeEnDt",
        "colab": {
          "base_uri": "https://localhost:8080/"
        },
        "outputId": "62e000c1-1016-4b68-c3c5-42da34091c58"
      },
      "execution_count": null,
      "outputs": [
        {
          "output_type": "display_data",
          "data": {
            "image/png": "[encoded data removed]",
            "text/plain": [
              "<Figure size 432x288 with 1 Axes>"
            ]
          },
          "metadata": {
            "needs_background": "light"
          }
        }
      ]
    },
    {
      "cell_type": "code",
      "source": [
        "#how was the training, any overfits?\n",
        "# plot train loss and validation loss for each epoch\n",
        "\n",
        "from matplotlib import pyplot as plt\n",
        "plt.plot(history.history['loss'])\n",
        "plt.plot(history.history['val_loss'])\n",
        "plt.title('Model Loss')\n",
        "plt.ylabel('Loss')\n",
        "plt.xlabel('Epoch')\n",
        "plt.legend(['train', 'val'], loc='upper left')\n",
        "plt.show()"
      ],
      "metadata": {
        "id": "qdROPaUsEo4E",
        "colab": {
          "base_uri": "https://localhost:8080/"
        },
        "outputId": "39f0fea0-d543-46e6-c920-911ac4c73292"
      },
      "execution_count": null,
      "outputs": [
        {
          "output_type": "display_data",
          "data": {
            "image/png": "[encoded data removed]",
            "text/plain": [
              "<Figure size 432x288 with 1 Axes>"
            ]
          },
          "metadata": {
            "needs_background": "light"
          }
        }
      ]
    },
    {
      "cell_type": "code",
      "source": [
        "def get_result(model, X_test, y_test):\n",
        "\n",
        "  test_loss = model.evaluate(X_test, y_test)\n",
        "\n",
        "  preds = model.predict(X_test)\n",
        "  np.sum(abs(np.subtract(preds, y_test)))\n",
        "\n",
        "  _error_azimuth = abs(np.subtract(preds[:,0], y_test[:,0]))\n",
        "\n",
        "  _error_elevation = abs(np.subtract(preds[:,1], y_test[:,1]))\n",
        "\n",
        "  _error_ang = np.sqrt(_error_azimuth**2+_error_elevation**2)\n",
        "\n",
        "  # some statistics of the errors\n",
        "  _error_df = pd.DataFrame({'_error_azimuth': _error_azimuth, '_error_elevation': _error_elevation,\n",
        "                            '_error_ang': _error_ang})\n",
        "\n",
        "  print(_error_df.describe().apply(lambda s: s.apply('{0:.3f}'.format)))\n"
      ],
      "metadata": {
        "id": "DzR3RvwpEq2x"
      },
      "execution_count": null,
      "outputs": []
    }
  ]
}